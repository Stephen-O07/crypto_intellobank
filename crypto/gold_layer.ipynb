{
 "cells": [
  {
   "cell_type": "code",
   "execution_count": 0,
   "metadata": {
    "application/vnd.databricks.v1+cell": {
     "cellMetadata": {
      "byteLimit": 2048000,
      "rowLimit": 10000
     },
     "inputWidgets": {},
     "nuid": "ea229be6-3f9c-4396-8c2c-121091ef8b2d",
     "showTitle": false,
     "tableResultSettingsMap": {},
     "title": ""
    }
   },
   "outputs": [],
   "source": [
    "bronze_path=\"abfss://bronze@cryptostorage07.dfs.core.windows.net/\"\n",
    "silver_path = \"abfss://silver@cryptostorage07.dfs.core.windows.net/silver_crypto\"\n",
    "gold_path = \"abfss://gold@cryptostorage07.dfs.core.windows.net/\""
   ]
  },
  {
   "cell_type": "code",
   "execution_count": 0,
   "metadata": {
    "application/vnd.databricks.v1+cell": {
     "cellMetadata": {
      "byteLimit": 2048000,
      "implicitDf": true,
      "rowLimit": 10000
     },
     "inputWidgets": {},
     "nuid": "2614f02a-7d8d-4f2e-9558-0ee6289ebe0c",
     "showTitle": false,
     "tableResultSettingsMap": {},
     "title": ""
    }
   },
   "outputs": [],
   "source": [
    "%sql\n",
    "SHOW EXTERNAL LOCATIONS"
   ]
  },
  {
   "cell_type": "markdown",
   "metadata": {
    "application/vnd.databricks.v1+cell": {
     "cellMetadata": {},
     "inputWidgets": {},
     "nuid": "a452476c-ee63-45ae-80a3-5380376eb753",
     "showTitle": false,
     "tableResultSettingsMap": {},
     "title": ""
    }
   },
   "source": [
    "## **CATALOG, SCHEMA & TABLES**"
   ]
  },
  {
   "cell_type": "code",
   "execution_count": 0,
   "metadata": {
    "application/vnd.databricks.v1+cell": {
     "cellMetadata": {
      "byteLimit": 2048000,
      "implicitDf": true,
      "rowLimit": 10000
     },
     "inputWidgets": {},
     "nuid": "dc6494b9-9308-4cad-abca-af09a0c58522",
     "showTitle": false,
     "tableResultSettingsMap": {},
     "title": ""
    }
   },
   "outputs": [],
   "source": [
    "%sql\n",
    "CREATE CATALOG IF NOT EXISTS ctl_crypto;"
   ]
  },
  {
   "cell_type": "code",
   "execution_count": 0,
   "metadata": {
    "application/vnd.databricks.v1+cell": {
     "cellMetadata": {
      "byteLimit": 2048000,
      "implicitDf": true,
      "rowLimit": 10000
     },
     "inputWidgets": {},
     "nuid": "a15445a7-54df-4c50-afd3-1b2ec0e0a1fa",
     "showTitle": false,
     "tableResultSettingsMap": {},
     "title": ""
    }
   },
   "outputs": [],
   "source": [
    "%sql\n",
    "CREATE SCHEMA IF NOT EXISTS ctl_crypto.staging_schema;"
   ]
  },
  {
   "cell_type": "code",
   "execution_count": 0,
   "metadata": {
    "application/vnd.databricks.v1+cell": {
     "cellMetadata": {
      "byteLimit": 2048000,
      "implicitDf": true,
      "rowLimit": 10000
     },
     "inputWidgets": {},
     "nuid": "045f2632-c49c-4bee-a606-6a8477d83516",
     "showTitle": false,
     "tableResultSettingsMap": {},
     "title": ""
    }
   },
   "outputs": [],
   "source": [
    "%sql\n",
    "CREATE TABLE IF NOT EXISTS ctl_crypto.staging_schema.raw_silver\n",
    "USING DELTA\n",
    "LOCATION \"abfss://silver@cryptostorage07.dfs.core.windows.net/silver_crypto\";"
   ]
  },
  {
   "cell_type": "code",
   "execution_count": 0,
   "metadata": {
    "application/vnd.databricks.v1+cell": {
     "cellMetadata": {
      "byteLimit": 2048000,
      "implicitDf": true,
      "rowLimit": 10000
     },
     "inputWidgets": {},
     "nuid": "0889811d-d2b9-478f-b1ec-64a86e43a4e8",
     "showTitle": false,
     "tableResultSettingsMap": {},
     "title": ""
    }
   },
   "outputs": [],
   "source": [
    "%sql\n",
    "SELECT * FROM ctl_crypto.staging_schema.raw_silver\n",
    "LIMIT 10;\n"
   ]
  },
  {
   "cell_type": "code",
   "execution_count": 0,
   "metadata": {
    "application/vnd.databricks.v1+cell": {
     "cellMetadata": {
      "byteLimit": 2048000,
      "implicitDf": true,
      "rowLimit": 10000
     },
     "inputWidgets": {},
     "nuid": "74a70476-b3b1-4755-b028-15f382ca8b09",
     "showTitle": false,
     "tableResultSettingsMap": {},
     "title": ""
    }
   },
   "outputs": [],
   "source": [
    "%sql\n",
    "SELECT COUNT(*) FROM ctl_crypto.staging_schema.raw_silver;"
   ]
  },
  {
   "cell_type": "markdown",
   "metadata": {
    "application/vnd.databricks.v1+cell": {
     "cellMetadata": {},
     "inputWidgets": {},
     "nuid": "2f802a3d-faee-46fb-902f-d954e6848a58",
     "showTitle": false,
     "tableResultSettingsMap": {},
     "title": ""
    }
   },
   "source": [
    "## **NORMALIZING THE GENERAL TABLE**\n",
    "-- By extracting the fact and dimension tables"
   ]
  },
  {
   "cell_type": "code",
   "execution_count": 0,
   "metadata": {
    "application/vnd.databricks.v1+cell": {
     "cellMetadata": {
      "byteLimit": 2048000,
      "implicitDf": true,
      "rowLimit": 10000
     },
     "inputWidgets": {},
     "nuid": "247b7e28-6796-412a-870c-d093e3b4a6ee",
     "showTitle": false,
     "tableResultSettingsMap": {},
     "title": ""
    }
   },
   "outputs": [],
   "source": [
    "%sql\n",
    "CREATE SCHEMA IF NOT EXISTS ctl_crypto.gold_schema;"
   ]
  },
  {
   "cell_type": "code",
   "execution_count": 0,
   "metadata": {
    "application/vnd.databricks.v1+cell": {
     "cellMetadata": {
      "byteLimit": 2048000,
      "implicitDf": true,
      "rowLimit": 10000
     },
     "inputWidgets": {},
     "nuid": "30274255-7ac2-44ba-839a-23c47d6166a2",
     "showTitle": false,
     "tableResultSettingsMap": {},
     "title": ""
    }
   },
   "outputs": [],
   "source": [
    "%sql\n",
    "CREATE TABLE IF NOT EXISTS ctl_crypto.gold_schema.dim_roi(\n",
    "  dim_roi_id BIGINT GENERATED ALWAYS AS IDENTITY PRIMARY KEY,\n",
    "  id STRING NOT NULL,\n",
    "  roi_time DOUBLE,\n",
    "  roi_currency STRING,\n",
    "  roi_percentage DOUBLE,\n",
    "  last_updated_ts TIMESTAMP\n",
    ")\n",
    "USING DELTA\n",
    "LOCATION \"abfss://gold@cryptostorage07.dfs.core.windows.net/dim_roi\";"
   ]
  },
  {
   "cell_type": "code",
   "execution_count": 0,
   "metadata": {
    "application/vnd.databricks.v1+cell": {
     "cellMetadata": {
      "byteLimit": 2048000,
      "implicitDf": true,
      "rowLimit": 10000
     },
     "inputWidgets": {},
     "nuid": "9c4dca1c-dea0-4275-b653-e45099e40a8d",
     "showTitle": false,
     "tableResultSettingsMap": {},
     "title": ""
    }
   },
   "outputs": [],
   "source": [
    "%sql\n",
    "CREATE TABLE IF NOT EXISTS ctl_crypto.gold_schema.dim_crypto(\n",
    "  dim_crypto_id BIGINT GENERATED ALWAYS AS IDENTITY PRIMARY KEY,\n",
    "  id STRING NOT NULL,\n",
    "  name STRING,\n",
    "  symbol STRING,\n",
    "  ath DOUBLE,\n",
    "  ath_change_percentage DOUBLE,\n",
    "  market_cap_billions DOUBLE,\n",
    "  volume_to_market_cap_ratio DOUBLE,\n",
    "  last_updated_ts TIMESTAMP  \n",
    ")\n",
    "USING DELTA\n",
    "LOCATION \"abfss://gold@cryptostorage07.dfs.core.windows.net/dim_crypto\";"
   ]
  },
  {
   "cell_type": "code",
   "execution_count": 0,
   "metadata": {
    "application/vnd.databricks.v1+cell": {
     "cellMetadata": {
      "byteLimit": 2048000,
      "implicitDf": true,
      "rowLimit": 10000
     },
     "inputWidgets": {},
     "nuid": "711230d0-3786-44d9-86d1-763b0c2200e9",
     "showTitle": false,
     "tableResultSettingsMap": {},
     "title": ""
    }
   },
   "outputs": [],
   "source": [
    "%sql\n",
    "CREATE TABLE IF NOT EXISTS ctl_crypto.gold_schema.fact_crypto(\n",
    "  id STRING NOT NULL,\n",
    "  market_cap_rank BIGINT,\n",
    "  max_supply DOUBLE,\n",
    "  total_supply DOUBLE,\n",
    "  circulating_supply DOUBLE,\n",
    "  total_volume DOUBLE,\n",
    "  market_cap DOUBLE,\n",
    "  market_cap_change_24h DOUBLE,\n",
    "  market_cap_change_percentage_24h DOUBLE,\n",
    "  price_change_24h DOUBLE,\n",
    "  price_change_percentage_24h DOUBLE,\n",
    "  fully_diluted_valuation DOUBLE,\n",
    "  market_cap_billions DOUBLE,\n",
    "  total_volume_double DOUBLE,\n",
    "  high_24h DOUBLE,\n",
    "  low_24h DOUBLE,\n",
    "  current_price DOUBLE,\n",
    "  date_partition DATE,\n",
    "  last_updated_ts TIMESTAMP\n",
    ")\n",
    "USING DELTA\n",
    "LOCATION \"abfss://gold@cryptostorage07.dfs.core.windows.net/fact_crypto\";"
   ]
  },
  {
   "cell_type": "code",
   "execution_count": 0,
   "metadata": {
    "application/vnd.databricks.v1+cell": {
     "cellMetadata": {
      "byteLimit": 2048000,
      "implicitDf": true,
      "rowLimit": 10000
     },
     "inputWidgets": {},
     "nuid": "78d70b26-18e2-4f26-b176-fe9ba0d2d46d",
     "showTitle": false,
     "tableResultSettingsMap": {},
     "title": ""
    }
   },
   "outputs": [],
   "source": [
    "%sql\n",
    "MERGE INTO ctl_crypto.gold_schema.dim_roi AS target\n",
    "USING (\n",
    "    SELECT\n",
    "    id,\n",
    "    roi_time,\n",
    "    roi_currency,\n",
    "    roi_percentage,\n",
    "    last_updated_ts,\n",
    "    row_number() OVER (PARTITION BY id ORDER BY last_updated_ts DESC) AS rn\n",
    "    FROM (\n",
    "      SELECT *, row_number() OVER (PARTITION BY id ORDER BY last_updated_ts DESC) AS rn\n",
    "      FROM ctl_crypto.staging_schema.raw_silver) WHERE rn = 1) AS updated_rn\n",
    "\n",
    "  ON target.id = updated_rn.id\n",
    "WHEN MATCHED AND updated_rn.rn = 1 THEN\n",
    "UPDATE SET\n",
    "  target.roi_time = updated_rn.roi_time,\n",
    "  target.roi_currency = updated_rn.roi_currency,\n",
    "  target.roi_percentage = updated_rn.roi_percentage,\n",
    "  target.last_updated_ts = updated_rn.last_updated_ts\n",
    "\n",
    "WHEN NOT MATCHED AND updated_rn.rn = 1 THEN\n",
    "INSERT (\n",
    "  id,\n",
    "  roi_time,\n",
    "  roi_currency,\n",
    "  roi_percentage,\n",
    "  last_updated_ts\n",
    ")\n",
    "VALUES (\n",
    "  updated_rn.id,\n",
    "  updated_rn.roi_time,\n",
    "  updated_rn.roi_currency,\n",
    "  updated_rn.roi_percentage,\n",
    "  updated_rn.last_updated_ts\n",
    ");"
   ]
  },
  {
   "cell_type": "code",
   "execution_count": 0,
   "metadata": {
    "application/vnd.databricks.v1+cell": {
     "cellMetadata": {
      "byteLimit": 2048000,
      "implicitDf": true,
      "rowLimit": 10000
     },
     "inputWidgets": {},
     "nuid": "7d1ae790-22b6-41c8-8505-46fd30aed4a2",
     "showTitle": false,
     "tableResultSettingsMap": {},
     "title": ""
    }
   },
   "outputs": [],
   "source": [
    "%sql\n",
    "SELECT COUNT(*) FROM ctl_crypto.staging_schema.raw_silver;\n"
   ]
  },
  {
   "cell_type": "code",
   "execution_count": 0,
   "metadata": {
    "application/vnd.databricks.v1+cell": {
     "cellMetadata": {
      "byteLimit": 2048000,
      "implicitDf": true,
      "rowLimit": 10000
     },
     "inputWidgets": {},
     "nuid": "466db8bc-7c4b-42c5-94ef-942f721c0cfe",
     "showTitle": false,
     "tableResultSettingsMap": {},
     "title": ""
    }
   },
   "outputs": [],
   "source": [
    "%sql\n",
    "MERGE INTO ctl_crypto.gold_schema.dim_crypto AS target\n",
    "USING (\n",
    "  SELECT\n",
    "    id,\n",
    "    name,\n",
    "    symbol,\n",
    "    ath,\n",
    "    ath_change_percentage,\n",
    "    market_cap_billions,\n",
    "    volume_to_market_cap_ratio,\n",
    "    last_updated_ts,\n",
    "    ROW_NUMBER() OVER (PARTITION BY id ORDER BY last_updated_ts DESC) AS rn\n",
    "  FROM (SELECT *, ROW_NUMBER() OVER (PARTITION BY id ORDER BY last_updated_ts DESC) AS rn FROM ctl_crypto.staging_schema.raw_silver) WHERE rn = 1\n",
    ") AS updated_rn\n",
    "\n",
    "ON target.id = updated_rn.id\n",
    "\n",
    "WHEN MATCHED AND updated_rn.rn = 1 THEN \n",
    "  UPDATE SET\n",
    "    target.name = updated_rn.name,\n",
    "    target.symbol = updated_rn.symbol,\n",
    "    target.ath = updated_rn.ath,\n",
    "    target.ath_change_percentage = updated_rn.ath_change_percentage,\n",
    "    target.market_cap_billions = updated_rn.market_cap_billions,\n",
    "    target.volume_to_market_cap_ratio = updated_rn.volume_to_market_cap_ratio,\n",
    "    target.last_updated_ts = updated_rn.last_updated_ts\n",
    "    WHEN NOT MATCHED AND updated_rn.rn = 1 THEN \n",
    "  INSERT (\n",
    "    id, \n",
    "    name,\n",
    "    symbol,\n",
    "    ath,\n",
    "    ath_change_percentage,\n",
    "    market_cap_billions,\n",
    "    volume_to_market_cap_ratio,\n",
    "    last_updated_ts\n",
    "  ) \n",
    "  VALUES (\n",
    "    updated_rn.id,\n",
    "    updated_rn.name,\n",
    "    updated_rn.symbol,\n",
    "    updated_rn.ath,\n",
    "    updated_rn.ath_change_percentage,\n",
    "    updated_rn.market_cap_billions,\n",
    "    updated_rn.volume_to_market_cap_ratio,\n",
    "    updated_rn.last_updated_ts\n",
    "  );"
   ]
  },
  {
   "cell_type": "code",
   "execution_count": 0,
   "metadata": {
    "application/vnd.databricks.v1+cell": {
     "cellMetadata": {
      "byteLimit": 2048000,
      "implicitDf": true,
      "rowLimit": 10000
     },
     "inputWidgets": {},
     "nuid": "08920471-f1a4-4747-9221-a1645d97a2b5",
     "showTitle": false,
     "tableResultSettingsMap": {},
     "title": ""
    }
   },
   "outputs": [],
   "source": [
    "%sql\n",
    "MERGE INTO ctl_crypto.gold_schema.fact_crypto AS target\n",
    "USING (\n",
    "    SELECT\n",
    "    id,\n",
    "    market_cap_rank,\n",
    "    max_supply,\n",
    "    total_supply,\n",
    "    circulating_supply,\n",
    "    total_volume,\n",
    "    market_cap,\n",
    "    market_cap_change_24h,\n",
    "    market_cap_change_percentage_24h,\n",
    "    price_change_24h,\n",
    "    price_change_percentage_24h,\n",
    "    high_24h,\n",
    "    low_24h,\n",
    "    current_price,\n",
    "    date_partition,\n",
    "    last_updated_ts,\n",
    "\n",
    "    row_number() OVER (PARTITION BY id ORDER BY last_updated_ts DESC) AS rn\n",
    "    FROM (\n",
    "      SELECT *, row_number() OVER (PARTITION BY id ORDER BY last_updated_ts DESC) AS rn\n",
    "      FROM ctl_crypto.staging_schema.raw_silver) WHERE rn = 1) AS updated_rn\n",
    "\n",
    "  ON target.id = updated_rn.id\n",
    "WHEN MATCHED AND updated_rn.rn = 1 THEN\n",
    "UPDATE SET\n",
    "  target.market_cap_rank = updated_rn.market_cap_rank,\n",
    "  target.max_supply = updated_rn.max_supply,\n",
    "  target.total_supply = updated_rn.total_supply,\n",
    "  target.circulating_supply = updated_rn.circulating_supply,\n",
    "  target.total_volume = updated_rn.total_volume,\n",
    "  target.market_cap = updated_rn.market_cap,\n",
    "  target.market_cap_change_24h = updated_rn.market_cap_change_24h,\n",
    "  target.market_cap_change_percentage_24h = updated_rn.market_cap_change_percentage_24h,\n",
    "  target.price_change_24h = updated_rn.price_change_24h,\n",
    "  target.price_change_percentage_24h = updated_rn.price_change_percentage_24h,\n",
    "  target.high_24h = updated_rn.high_24h,\n",
    "  target.low_24h = updated_rn.low_24h,\n",
    "  target.current_price = updated_rn.current_price,\n",
    "  target.date_partition = updated_rn.date_partition,\n",
    "  target.last_updated_ts = updated_rn.last_updated_ts\n",
    "\n",
    "WHEN NOT MATCHED AND updated_rn.rn = 1 THEN\n",
    "INSERT (\n",
    "  id,\n",
    "  market_cap_rank,\n",
    "  max_supply,\n",
    "  total_supply,\n",
    "  circulating_supply,\n",
    "  total_volume,\n",
    "  market_cap,\n",
    "  market_cap_change_24h,\n",
    "  market_cap_change_percentage_24h,\n",
    "  price_change_24h,\n",
    "  price_change_percentage_24h,\n",
    "  high_24h,\n",
    "  low_24h,\n",
    "  current_price,\n",
    "  date_partition,\n",
    "  last_updated_ts\n",
    ")\n",
    "VALUES (\n",
    "  updated_rn.id,\n",
    "  updated_rn.market_cap_rank,\n",
    "  updated_rn.max_supply,\n",
    "  updated_rn.total_supply,\n",
    "  updated_rn.circulating_supply,\n",
    "  updated_rn.total_volume,\n",
    "  updated_rn.market_cap,\n",
    "  updated_rn.market_cap_change_24h,\n",
    "  updated_rn.market_cap_change_percentage_24h,\n",
    "  updated_rn.price_change_24h,\n",
    "  updated_rn.price_change_percentage_24h,\n",
    "  updated_rn.high_24h,\n",
    "  updated_rn.low_24h,\n",
    "  updated_rn.current_price,\n",
    "  updated_rn.date_partition,\n",
    "  updated_rn.last_updated_ts\n",
    ");"
   ]
  },
  {
   "cell_type": "code",
   "execution_count": 0,
   "metadata": {
    "application/vnd.databricks.v1+cell": {
     "cellMetadata": {
      "byteLimit": 2048000,
      "rowLimit": 10000
     },
     "inputWidgets": {},
     "nuid": "19415e37-dd9a-4b41-824e-5926786d9f76",
     "showTitle": false,
     "tableResultSettingsMap": {},
     "title": ""
    }
   },
   "outputs": [],
   "source": [
    "top_10 = spark.sql('''\n",
    "                   SELECT * FROM ctl_crypto.gold_schema.fact_crypto\n",
    "                   LIMIT 10\n",
    "                   ''')"
   ]
  },
  {
   "cell_type": "code",
   "execution_count": 0,
   "metadata": {
    "application/vnd.databricks.v1+cell": {
     "cellMetadata": {
      "byteLimit": 2048000,
      "implicitDf": true,
      "rowLimit": 10000
     },
     "inputWidgets": {},
     "nuid": "ac880048-3998-4009-8828-9f159f7fba61",
     "showTitle": false,
     "tableResultSettingsMap": {},
     "title": ""
    }
   },
   "outputs": [],
   "source": [
    "top_10.display()"
   ]
  },
  {
   "cell_type": "code",
   "execution_count": 0,
   "metadata": {
    "application/vnd.databricks.v1+cell": {
     "cellMetadata": {
      "byteLimit": 2048000,
      "rowLimit": 10000
     },
     "inputWidgets": {},
     "nuid": "0bde88e8-f684-4b92-807c-ff98cd362918",
     "showTitle": false,
     "tableResultSettingsMap": {},
     "title": ""
    }
   },
   "outputs": [],
   "source": [
    "transformed_data = spark.sql(\"\"\"\n",
    "SELECT\n",
    "    dc.dim_crypto_id,\n",
    "    fc.id,\n",
    "    name,\n",
    "    symbol,\n",
    "    ath,\n",
    "    ath_change_percentage,\n",
    "    fc.market_cap_billions,\n",
    "    volume_to_market_cap_ratio,\n",
    "    (price_change_24h / fc.market_cap_billions) AS normalized_price_change_24h\n",
    "FROM\n",
    "    ctl_crypto.gold_schema.fact_crypto fc\n",
    "JOIN\n",
    "    ctl_crypto.gold_schema.dim_crypto dc\n",
    "ON fc.id = dc.id\n",
    "\"\"\")\n"
   ]
  },
  {
   "cell_type": "code",
   "execution_count": 0,
   "metadata": {
    "application/vnd.databricks.v1+cell": {
     "cellMetadata": {
      "byteLimit": 2048000,
      "rowLimit": 10000
     },
     "inputWidgets": {},
     "nuid": "522781ed-16df-4418-a67d-ff22c9857ccd",
     "showTitle": false,
     "tableResultSettingsMap": {},
     "title": ""
    }
   },
   "outputs": [],
   "source": [
    "transformed_data.display()"
   ]
  },
  {
   "cell_type": "code",
   "execution_count": 0,
   "metadata": {
    "application/vnd.databricks.v1+cell": {
     "cellMetadata": {
      "byteLimit": 2048000,
      "implicitDf": true,
      "rowLimit": 10000
     },
     "inputWidgets": {},
     "nuid": "e602e6b5-6a15-42b0-b16d-1e5f1489e779",
     "showTitle": false,
     "tableResultSettingsMap": {},
     "title": ""
    }
   },
   "outputs": [],
   "source": [
    "%sql\n",
    "select market_cap_rank, max_supply, total_volume, market_cap\n",
    "FROM ctl_crypto.gold_schema.fact_crypto\n",
    "ORDER BY market_cap DESC\n",
    "LIMIT 10;\n"
   ]
  },
  {
   "cell_type": "code",
   "execution_count": 0,
   "metadata": {
    "application/vnd.databricks.v1+cell": {
     "cellMetadata": {
      "byteLimit": 2048000,
      "rowLimit": 10000
     },
     "inputWidgets": {},
     "nuid": "77bf3fda-b084-41e3-99e6-33ddfcbe1b8d",
     "showTitle": false,
     "tableResultSettingsMap": {},
     "title": ""
    }
   },
   "outputs": [],
   "source": [
    "from pyspark.sql.functions import *\n",
    "\n",
    "binance_df = transformed_data.filter(col(\"id\").like(\"%binance%\"))\n",
    "\n",
    "# Show the result\n",
    "binance_df.display()"
   ]
  }
 ],
 "metadata": {
  "application/vnd.databricks.v1+notebook": {
   "computePreferences": null,
   "dashboards": [],
   "environmentMetadata": {
    "base_environment": "",
    "environment_version": "2"
   },
   "inputWidgetPreferences": null,
   "language": "python",
   "notebookMetadata": {
    "mostRecentlyExecutedCommandWithImplicitDF": {
     "commandId": 8254296077837771,
     "dataframes": [
      "_sqldf"
     ]
    },
    "pythonIndentUnit": 4
   },
   "notebookName": "gold_layer",
   "widgets": {}
  },
  "language_info": {
   "name": "python"
  }
 },
 "nbformat": 4,
 "nbformat_minor": 0
}
