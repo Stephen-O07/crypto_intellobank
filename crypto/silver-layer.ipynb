{
 "cells": [
  {
   "cell_type": "markdown",
   "metadata": {
    "application/vnd.databricks.v1+cell": {
     "cellMetadata": {},
     "inputWidgets": {},
     "nuid": "6d32953e-4598-47aa-b4c8-288d6b92b192",
     "showTitle": false,
     "tableResultSettingsMap": {},
     "title": ""
    }
   },
   "source": [
    "## **Using Auto Loader update our dataframe/storage**"
   ]
  },
  {
   "cell_type": "code",
   "execution_count": 0,
   "metadata": {
    "application/vnd.databricks.v1+cell": {
     "cellMetadata": {
      "byteLimit": 2048000,
      "rowLimit": 10000
     },
     "inputWidgets": {},
     "nuid": "d5e8891b-95e6-4b5a-bac5-7de3b23eeac3",
     "showTitle": false,
     "tableResultSettingsMap": {},
     "title": ""
    }
   },
   "outputs": [],
   "source": [
    "## import our dependencies\n",
    "from pyspark.sql.functions import *\n",
    "from pyspark.sql.types import *"
   ]
  },
  {
   "cell_type": "code",
   "execution_count": 0,
   "metadata": {
    "application/vnd.databricks.v1+cell": {
     "cellMetadata": {
      "byteLimit": 2048000,
      "rowLimit": 10000
     },
     "inputWidgets": {},
     "nuid": "d0e15ccc-e7b2-47cc-b114-142a5fb3c474",
     "showTitle": false,
     "tableResultSettingsMap": {},
     "title": ""
    }
   },
   "outputs": [],
   "source": [
    "bronze_path = \"abfss://bronze@cryptostorage07.dfs.core.windows.net/\"\n",
    "silver_path = \"abfss://silver@cryptostorage07.dfs.core.windows.net/silver_crypto\"\n",
    "schema_path = \"abfss://schema@cryptostorage07.dfs.core.windows.net/\""
   ]
  },
  {
   "cell_type": "markdown",
   "metadata": {
    "application/vnd.databricks.v1+cell": {
     "cellMetadata": {},
     "inputWidgets": {},
     "nuid": "cd99f315-5989-465f-950e-4d5ab8827f94",
     "showTitle": false,
     "tableResultSettingsMap": {},
     "title": ""
    }
   },
   "source": [
    "## **Using Autolaoder**"
   ]
  },
  {
   "cell_type": "code",
   "execution_count": 0,
   "metadata": {
    "application/vnd.databricks.v1+cell": {
     "cellMetadata": {
      "byteLimit": 2048000,
      "rowLimit": 10000
     },
     "inputWidgets": {},
     "nuid": "4bb052c5-99f8-4fc9-8afc-fd4b3d677e65",
     "showTitle": false,
     "tableResultSettingsMap": {},
     "title": ""
    }
   },
   "outputs": [],
   "source": [
    "df = spark.readStream\\\n",
    "  .format('cloudFiles')\\\n",
    "  .option('cloudFiles.format', 'json')\\\n",
    "  .option('cloudFiles.schemaEvolutionMode', 'addNewColumns')\\\n",
    "  .option('cloudFiles.schemaLocation', schema_path)\\\n",
    "  .option('cloudFiles.schemaHints',\n",
    "          \"\"\"\n",
    "            roi STRUCT<times:DOUBLE, currency:STRING, percentage:DOUBLE>,\n",
    "            ath STRING,\n",
    "            ath_change_percentage STRING,\n",
    "            ath_date STRING,\n",
    "            atl STRING,\n",
    "            atl_change_percentage STRING,\n",
    "            atl_date STRING,\n",
    "            circulating_supply STRING,\n",
    "            current_price STRING,\n",
    "            high_24h STRING,\n",
    "            id STRING,\n",
    "            last_updated STRING,\n",
    "            low_24h STRING,\n",
    "            market_cap STRING,\n",
    "            market_cap_change_24h STRING,\n",
    "            market_cap_change_percentage_24h STRING,\n",
    "            market_cap_rank STRING,\n",
    "            max_supply STRING,\n",
    "            name STRING,\n",
    "            price_change_24h STRING,\n",
    "            price_change_percentage_24h STRING,\n",
    "            symbol STRING,\n",
    "            total_supply STRING,\n",
    "            total_volume STRING\n",
    "          \"\"\")\\\n",
    "    .load(bronze_path)\\\n",
    "    .withColumn('ingested_time', current_timestamp())"
   ]
  },
  {
   "cell_type": "code",
   "execution_count": 0,
   "metadata": {
    "application/vnd.databricks.v1+cell": {
     "cellMetadata": {
      "byteLimit": 2048000,
      "rowLimit": 10000
     },
     "inputWidgets": {},
     "nuid": "46ab199c-0d02-4c44-a5b8-ca70e198e00b",
     "showTitle": false,
     "tableResultSettingsMap": {},
     "title": ""
    }
   },
   "outputs": [],
   "source": [
    "df.printSchema()"
   ]
  },
  {
   "cell_type": "markdown",
   "metadata": {
    "application/vnd.databricks.v1+cell": {
     "cellMetadata": {},
     "inputWidgets": {},
     "nuid": "fd6f6bc8-99c8-42aa-8b21-eb2116f2497d",
     "showTitle": false,
     "tableResultSettingsMap": {},
     "title": ""
    }
   },
   "source": [
    "## **Transforming Data Using Pyspark**"
   ]
  },
  {
   "cell_type": "code",
   "execution_count": 0,
   "metadata": {
    "application/vnd.databricks.v1+cell": {
     "cellMetadata": {
      "byteLimit": 2048000,
      "rowLimit": 10000
     },
     "inputWidgets": {},
     "nuid": "ee9db98b-f504-442c-89bd-5809dedcdb84",
     "showTitle": false,
     "tableResultSettingsMap": {},
     "title": ""
    }
   },
   "outputs": [],
   "source": [
    "df_parsed = df\\\n",
    "    .withColumn('roi_time', col('roi.times'))\\\n",
    "    .withColumn('roi_currency', col('roi.currency'))\\\n",
    "    .withColumn('roi_percentage', col('roi.percentage'))\\\n",
    "    .drop('roi')\n",
    "df_parsed.printSchema()"
   ]
  },
  {
   "cell_type": "code",
   "execution_count": 0,
   "metadata": {
    "application/vnd.databricks.v1+cell": {
     "cellMetadata": {
      "byteLimit": 2048000,
      "rowLimit": 10000
     },
     "inputWidgets": {},
     "nuid": "95361ece-781e-4061-98ad-fc5cceae0758",
     "showTitle": false,
     "tableResultSettingsMap": {},
     "title": ""
    }
   },
   "outputs": [],
   "source": [
    "from pyspark.sql.functions import regexp_replace, to_timestamp, to_date, when\n",
    "df_transformed = df_parsed \\\n",
    "    .withColumn(\"last_updated_clean\", regexp_replace(col(\"last_updated\"), \"(Z|\\\\+00:00)$\", \"\")) \\\n",
    "    .withColumn(\n",
    "        \"last_updated_ts\",\n",
    "        when(\n",
    "            col(\"last_updated_clean\").isNotNull(),\n",
    "            to_timestamp(col(\"last_updated_clean\"), \"yyyy-MM-dd'T'HH:mm:ss.SSS\")\n",
    "        ).otherwise(current_timestamp())\n",
    "    ) \\\n",
    "    .withColumn(\"date_partition\", to_date(col(\"last_updated_ts\"))) \\\n",
    "    .drop(\"last_updated\", \"last_updated_clean\")\n",
    "df_transformed.printSchema()"
   ]
  },
  {
   "cell_type": "code",
   "execution_count": 0,
   "metadata": {
    "application/vnd.databricks.v1+cell": {
     "cellMetadata": {
      "byteLimit": 2048000,
      "rowLimit": 10000
     },
     "inputWidgets": {},
     "nuid": "7e12f1d2-5dfd-4ba1-a088-4f6efbcd02c4",
     "showTitle": false,
     "tableResultSettingsMap": {},
     "title": ""
    }
   },
   "outputs": [],
   "source": [
    "df_metrics = df_transformed \\\n",
    "    .withColumn(\"market_cap_double\", col(\"market_cap\").cast(\"double\")) \\\n",
    "    .withColumn(\"total_volume_double\", col(\"total_volume\").cast(\"double\")) \\\n",
    "    .withColumn(\"market_cap_billions\",\n",
    "        when(col(\"market_cap_double\").isNotNull(), col(\"market_cap_double\") / 1_000_000_000.0)\n",
    "        .otherwise(0.0)\n",
    "    ) \\\n",
    "    .withColumn(\"volume_to_market_cap_ratio\",\n",
    "        when(\n",
    "            (col(\"total_volume_double\").isNotNull()) &\n",
    "            (col(\"market_cap_double\").isNotNull()) &\n",
    "            (col(\"market_cap_double\") > 0),\n",
    "            col(\"total_volume_double\") / col(\"market_cap_double\")\n",
    "        ).otherwise(0.0)\n",
    "    )\n",
    "df_metrics.printSchema()"
   ]
  },
  {
   "cell_type": "code",
   "execution_count": 0,
   "metadata": {
    "application/vnd.databricks.v1+cell": {
     "cellMetadata": {
      "byteLimit": 2048000,
      "rowLimit": 10000
     },
     "inputWidgets": {},
     "nuid": "b2a15ad0-9f58-4241-9036-e0ae69b3b175",
     "showTitle": false,
     "tableResultSettingsMap": {},
     "title": ""
    }
   },
   "outputs": [],
   "source": [
    "df_final = df_metrics\\\n",
    "    .filter(\n",
    "    col(\"symbol\").isNotNull() &\n",
    "    col(\"last_updated_ts\").isNotNull() &\n",
    "    col(\"date_partition\").isNotNull() &\n",
    "    col(\"market_cap_billions\").isNotNull() &\n",
    "    col(\"id\").isNotNull()\n",
    "    )\\\n",
    "    .dropDuplicates([\"id\", \"last_updated_ts\"])\n",
    "\n",
    "df_final.printSchema()"
   ]
  },
  {
   "cell_type": "code",
   "execution_count": 0,
   "metadata": {
    "application/vnd.databricks.v1+cell": {
     "cellMetadata": {
      "byteLimit": 2048000,
      "rowLimit": 10000
     },
     "inputWidgets": {},
     "nuid": "b0a676af-4df6-4a0f-b250-38d895a6c36e",
     "showTitle": false,
     "tableResultSettingsMap": {},
     "title": ""
    }
   },
   "outputs": [],
   "source": [
    "df_final.columns\n"
   ]
  },
  {
   "cell_type": "code",
   "execution_count": 0,
   "metadata": {
    "application/vnd.databricks.v1+cell": {
     "cellMetadata": {
      "byteLimit": 2048000,
      "implicitDf": true,
      "rowLimit": 10000
     },
     "inputWidgets": {},
     "nuid": "e3a894e8-e0de-4261-bc24-e11a7341341e",
     "showTitle": false,
     "tableResultSettingsMap": {},
     "title": ""
    }
   },
   "outputs": [],
   "source": [
    "%sql\n",
    "SHOW EXTERNAL LOCATIONS"
   ]
  },
  {
   "cell_type": "markdown",
   "metadata": {
    "application/vnd.databricks.v1+cell": {
     "cellMetadata": {},
     "inputWidgets": {},
     "nuid": "35decfab-c300-4e58-83f4-922b14b65558",
     "showTitle": false,
     "tableResultSettingsMap": {},
     "title": ""
    }
   },
   "source": [
    "## **Writing to our Silver Layer**"
   ]
  },
  {
   "cell_type": "code",
   "execution_count": 0,
   "metadata": {
    "application/vnd.databricks.v1+cell": {
     "cellMetadata": {
      "byteLimit": 2048000,
      "rowLimit": 10000
     },
     "inputWidgets": {},
     "nuid": "5b7af857-b18e-4fe9-bc05-56b32ca8b73e",
     "showTitle": false,
     "tableResultSettingsMap": {},
     "title": ""
    }
   },
   "outputs": [],
   "source": [
    "query = df_final.writeStream\\\n",
    "  .format('delta')\\\n",
    "  .outputMode('append')\\\n",
    "  .option('checkpointLocation', \"abfss://silver@cryptostorage07.dfs.core.windows.net/_checkpoints/crypto_market\")\\\n",
    "  .trigger(once=True)\\\n",
    "  .start(silver_path)"
   ]
  },
  {
   "cell_type": "code",
   "execution_count": 0,
   "metadata": {
    "application/vnd.databricks.v1+cell": {
     "cellMetadata": {
      "byteLimit": 2048000,
      "rowLimit": 10000
     },
     "inputWidgets": {},
     "nuid": "992e88d3-9096-43b3-a9f4-cd09437021e5",
     "showTitle": false,
     "tableResultSettingsMap": {},
     "title": ""
    }
   },
   "outputs": [],
   "source": [
    "query.lastProgress"
   ]
  },
  {
   "cell_type": "code",
   "execution_count": 0,
   "metadata": {
    "application/vnd.databricks.v1+cell": {
     "cellMetadata": {
      "byteLimit": 2048000,
      "rowLimit": 10000
     },
     "inputWidgets": {},
     "nuid": "4b8c8d8f-2ae1-45b2-b464-09bcd2c6dc1e",
     "showTitle": false,
     "tableResultSettingsMap": {},
     "title": ""
    }
   },
   "outputs": [],
   "source": [
    "query.status"
   ]
  }
 ],
 "metadata": {
  "application/vnd.databricks.v1+notebook": {
   "computePreferences": null,
   "dashboards": [],
   "environmentMetadata": {
    "base_environment": "",
    "environment_version": "2"
   },
   "inputWidgetPreferences": null,
   "language": "python",
   "notebookMetadata": {
    "mostRecentlyExecutedCommandWithImplicitDF": {
     "commandId": 8969837182185329,
     "dataframes": [
      "_sqldf"
     ]
    },
    "pythonIndentUnit": 4
   },
   "notebookName": "silver-layer",
   "widgets": {}
  },
  "language_info": {
   "name": "python"
  }
 },
 "nbformat": 4,
 "nbformat_minor": 0
}
